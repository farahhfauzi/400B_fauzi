{
 "cells": [
  {
   "cell_type": "code",
   "execution_count": 1,
   "metadata": {},
   "outputs": [],
   "source": [
    "'''\n",
    "Homework 3\n",
    "Farah Fauzi\n",
    "'''\n",
    "import numpy as np\n",
    "import astropy.units as u\n",
    "from ReadFile import Read"
   ]
  },
  {
   "cell_type": "code",
   "execution_count": 10,
   "metadata": {},
   "outputs": [
    {
     "name": "stdout",
     "output_type": "stream",
     "text": [
      "[<Quantity 1.975 solMass>, <Quantity 0.075 solMass>, <Quantity 0.01 solMass>, <Quantity 2.06 solMass>]\n",
      "[<Quantity 1.921 solMass>, <Quantity 0.12 solMass>, <Quantity 0.019 solMass>, <Quantity 2.06 solMass>]\n",
      "[<Quantity 0.187 solMass>, <Quantity 0.009 solMass>, 0, <Quantity 0.196 solMass>]\n",
      "0.041\n",
      "0.067\n",
      "0.046\n",
      "1.975 solMass 1.921 solMass 0.187 solMass\n"
     ]
    },
    {
     "data": {
      "text/plain": [
       "(<Quantity 1.975 solMass>, <Quantity 1.921 solMass>, <Quantity 1.921 solMass>)"
      ]
     },
     "execution_count": 10,
     "metadata": {},
     "output_type": "execute_result"
    }
   ],
   "source": [
    "# function ComponentMass return total mass of galaxy component that takes input filename and particle type\n",
    "# return mass in units of 1e12*Msun\n",
    "def ComponentMass(ptype):\n",
    "    MW = []                         #empty array for each galaxy\n",
    "    M31 = []\n",
    "    M33 = []\n",
    "    \n",
    "    #summing up mass of each component for different galaxy\n",
    "    #read data from filename\n",
    "    #append data into array for each galaxy\n",
    "    #print total mass of component for each galaxy\n",
    "    filename = \"MW_000.txt\"\n",
    "    time, total, data = Read(filename)\n",
    "    for p_type in range(1,4):\n",
    "        index = np.where(data['type']==p_type)\n",
    "        #get total mass for all p_type\n",
    "        totMass1 = sum(data['m'][index]*1e-2*u.M_sun)\n",
    "        newMass1 = np.round(totMass1,3)\n",
    "        #get total mass for desired p_type for MW\n",
    "        if (p_type==ptype):\n",
    "            totMassH = sum(data['m'][index]*1e-2*u.M_sun)\n",
    "            newMassH = np.round(totMassH,3)\n",
    "        #insert total mass of component into MW array\n",
    "        MW.append(newMass1)\n",
    "        p_type+=1\n",
    "        \n",
    "    filename = \"M31_000.txt\"\n",
    "    time, total, data = Read(filename)\n",
    "    for p_type in range(1,4):\n",
    "        index = np.where(data['type']==p_type)\n",
    "        #get total mass for all p_type\n",
    "        totMass2 = sum(data['m'][index]*1e-2*u.M_sun)\n",
    "        newMass2 = np.round(totMass2,3)\n",
    "        #get total mass for desired p_type for M31\n",
    "        if (p_type==ptype):\n",
    "            totMassD = sum(data['m'][index]*1e-2*u.M_sun)\n",
    "            newMassD = np.round(totMassD,3)\n",
    "        #insert total mass of component into M31 array\n",
    "        M31.append(newMass2)\n",
    "        p_type+=1\n",
    "        \n",
    "    filename = \"M33_000.txt\"\n",
    "    time, total, data = Read(filename)\n",
    "    for p_type in range(1,4):\n",
    "        index = np.where(data['type']==p_type)\n",
    "        #get total mass for all p_type\n",
    "        totMass3 = sum(data['m'][index]*1e-2*u.M_sun)\n",
    "        newMass3 = np.round(totMass3,3)\n",
    "        #get total mass for desired p_type for M33\n",
    "        if (p_type==ptype):\n",
    "            totMassB = sum(data['m'][index]*1e-2*u.M_sun)\n",
    "            newMassB = np.round(totMassB,3)\n",
    "        #insert total mass of component into M33 array\n",
    "        M33.append(newMass3)\n",
    "        p_type+=1\n",
    "    \n",
    "    #total mass of components for each galaxy\n",
    "    GalMassMW=sum(MW)\n",
    "    MW.append(GalMassMW)\n",
    "    print (MW)\n",
    "    GalMassM31=sum(M31)\n",
    "    M31.append(GalMassM31)\n",
    "    print (M31)\n",
    "    GalMassM33=sum(M33)\n",
    "    M33.append(GalMassM33)\n",
    "    print (M33)\n",
    "    \n",
    "    #fbar ratio calculation\n",
    "    fbarMW = np.around((MW[1]+MW[2])/(MW[3]),3)\n",
    "    print (fbarMW)\n",
    "    fbarM31 = np.around((M31[1]+M31[2])/(M31[3]),3)\n",
    "    print (fbarM31)\n",
    "    fbarM33 = np.around((M33[1]+M33[2])/(M33[3]),3)\n",
    "    print (fbarM33)\n",
    "    \n",
    "    print newMassH, newMassD, newMassB #print total mass of galaxy component\n",
    "    \n",
    "    return newMassH, newMassD, newMassD #return total mass of galaxy component\n",
    "\n",
    "#if desired ptype=2\n",
    "ptype = 1\n",
    "ComponentMass(ptype)"
   ]
  },
  {
   "cell_type": "code",
   "execution_count": null,
   "metadata": {},
   "outputs": [],
   "source": []
  }
 ],
 "metadata": {
  "kernelspec": {
   "display_name": "Python 2",
   "language": "python",
   "name": "python2"
  },
  "language_info": {
   "codemirror_mode": {
    "name": "ipython",
    "version": 2
   },
   "file_extension": ".py",
   "mimetype": "text/x-python",
   "name": "python",
   "nbconvert_exporter": "python",
   "pygments_lexer": "ipython2",
   "version": "2.7.16"
  }
 },
 "nbformat": 4,
 "nbformat_minor": 2
}
