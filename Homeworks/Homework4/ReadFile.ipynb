{
 "cells": [
  {
   "cell_type": "code",
   "execution_count": null,
   "metadata": {},
   "outputs": [],
   "source": [
    "'''\n",
    "Re-do of Homework2\n",
    "Farah Fauzi\n",
    "'''\n",
    "\n",
    "import numpy as np\n",
    "import astropy.units as u\n",
    "\n",
    "def Read(filename):\n",
    "    file = open(filename,'r')\n",
    " \n",
    "    line1 = file.readline()                 #read the first line in MW_000.txt file\n",
    "    label, value = line1.split()\n",
    "    time = float(value)*u.Myr               #store the line read as time\n",
    "\n",
    "    line2 = file.readline()                 #read the 2nd line in MW_000,txt file\n",
    "    label, value = line2.split()\n",
    "    total = float(value)                    #store the line read as total\n",
    "\n",
    "    file.close()                            #close file\n",
    "\n",
    "    data = np.genfromtxt(filename,dtype=None,names=True,skip_header=3) #store remainding data, skip first 3 rows\n",
    "\n",
    "    #print (data['type'][1])                 #test print out particle type of 2nd particle\n",
    "\n",
    "    return time, total, data\n",
    "\n",
    "Read(\"MW_000.txt\")"
   ]
  }
 ],
 "metadata": {
  "kernelspec": {
   "display_name": "Python 3",
   "language": "python",
   "name": "python3"
  },
  "language_info": {
   "codemirror_mode": {
    "name": "ipython",
    "version": 3
   },
   "file_extension": ".py",
   "mimetype": "text/x-python",
   "name": "python",
   "nbconvert_exporter": "python",
   "pygments_lexer": "ipython3",
   "version": "3.6.8"
  }
 },
 "nbformat": 4,
 "nbformat_minor": 2
}
