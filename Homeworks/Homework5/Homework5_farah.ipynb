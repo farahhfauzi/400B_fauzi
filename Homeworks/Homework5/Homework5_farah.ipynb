{
 "cells": [
  {
   "cell_type": "code",
   "execution_count": 1,
   "metadata": {},
   "outputs": [
    {
     "data": {
      "text/plain": [
       "'\\nHomework 5\\nMass Profile \\nFarah Fauzi\\n'"
      ]
     },
     "execution_count": 1,
     "metadata": {},
     "output_type": "execute_result"
    }
   ],
   "source": [
    "'''\n",
    "Homework 5\n",
    "Mass Profile \n",
    "Farah Fauzi\n",
    "'''"
   ]
  },
  {
   "cell_type": "code",
   "execution_count": 2,
   "metadata": {},
   "outputs": [],
   "source": [
    "# import modules\n",
    "import numpy as np\n",
    "import astropy.units as u\n",
    "\n",
    "from ReadFile import Read\n",
    "from centerofmass_redo import CenterOfMass"
   ]
  },
  {
   "cell_type": "code",
   "execution_count": 3,
   "metadata": {},
   "outputs": [],
   "source": [
    "# create class MassProfile\n",
    "class MassProfile:\n",
    "    \n",
    "    def __init__(self, galaxy, snap):\n",
    "        # Inputs:\n",
    "        #    filename = input only the galaxy name\n",
    "        ilbl = '000' + str(snap)\n",
    "        ilbl = ilbl[-3:]\n",
    "        self.filename = \"%s_\"%(galaxy) + ilbl + '.txt'\n",
    "        \n",
    "        self.time, self.total, self.data = Read(self.filename)\n",
    "        self.x = self.data['x']\n",
    "        self.y = self.data['y']\n",
    "        self.z = self.data['z']\n",
    "        self.m = self.data['m']\n",
    "        self.gname = galaxy\n",
    "        \n",
    "    def MassEnclosed(self, ptype, r):\n",
    "        COMObject = CenterOfMass(self.filename,ptype)\n",
    "        COM = COMObject.COM_P(0.1)\n",
    "        #print(COM)\n",
    "        massArr = []\n",
    "        for i in r:\n",
    "            mass = 0\n",
    "            for j in range(len(self.x)):\n",
    "                if ( abs(COM[0]-self.x[j]*u.kpc) < i*u.kpc and \n",
    "                    abs(COM[1]-self.y[j]*u.kpc) < i*u.kpc and \n",
    "                    abs(COM[2]-self.z[j]*u.kpc) < i*u.kpc):\n",
    "                    mass = mass + self.m[j]\n",
    "            massArr.append(mass)\n",
    "        print(massArr)\n",
    "                    \n",
    "        \n",
    "        \n",
    "        \n",
    "        "
   ]
  },
  {
   "cell_type": "code",
   "execution_count": 4,
   "metadata": {},
   "outputs": [
    {
     "name": "stdout",
     "output_type": "stream",
     "text": [
      "[0.10721815000000257, 2.933778400000032, 4.643773350006166, 6.19307655000349, 7.700266599999649, 9.246644049994043, 10.864162349990407, 12.705671149989374, 14.572023599988455, 16.46456994998766, 18.324663849987008, 20.329597999986447, 22.050691599986028, 23.929277449985623, 25.603619449985896, 27.346857999986387, 29.170191049986975, 30.797881749987525, 32.51196824998812, 34.224404500033415, 35.99958835009707]\n"
     ]
    }
   ],
   "source": [
    "MW = MassProfile(\"MW\",0)\n",
    "r = np.arange(0.25,30.5,1.5)\n",
    "MW.MassEnclosed(1,r)"
   ]
  },
  {
   "cell_type": "code",
   "execution_count": null,
   "metadata": {},
   "outputs": [],
   "source": []
  }
 ],
 "metadata": {
  "kernelspec": {
   "display_name": "Python 3",
   "language": "python",
   "name": "python3"
  },
  "language_info": {
   "codemirror_mode": {
    "name": "ipython",
    "version": 3
   },
   "file_extension": ".py",
   "mimetype": "text/x-python",
   "name": "python",
   "nbconvert_exporter": "python",
   "pygments_lexer": "ipython3",
   "version": "3.6.5"
  }
 },
 "nbformat": 4,
 "nbformat_minor": 2
}
